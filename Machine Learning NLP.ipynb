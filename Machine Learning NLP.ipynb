{
 "cells": [
  {
   "cell_type": "markdown",
   "metadata": {},
   "source": [
    "# Natural Language Processing"
   ]
  },
  {
   "cell_type": "markdown",
   "metadata": {},
   "source": [
    "## Basic NLP\n",
    "\n",
    "```python\n",
    "# import nltk\n",
    "# nltk.download('stopwords')\n",
    "from nltk.corpus import stopwords\n",
    "stopwords.words('english')\n",
    "\n",
    "# EDA: WordCloud\n",
    "from wordcloud import WordCloud\n",
    "import matplotlib.pyplot as plt\n",
    "%matplotlib inline\n",
    "wc = WordCloud(background_color=\"white\",colormap=\"Dark2\",max_font_size=100,stopwords=sw,max_words=200)\n",
    "wc.generate(my_text)\n",
    "plt.imshow(wc, interpolation=\"bilinear\")\n",
    "plt.axis(\"off\")\n",
    "\n",
    "# we can also use stemming\n",
    "\n",
    "# turning each document in corpus into the bag of words format\n",
    "from sklearn.feature_extraction.text import CountVectorizer\n",
    "bow= CountVectorizer(stop_words=stopwords.words('english'))\n",
    "bow.fit(X_train)\n",
    "bow_transformed= bow.transform(X_train)\n",
    "\n",
    "# dict of words and their index\n",
    "bow.vocabulary_\n",
    "\n",
    "# simple visualization of bow dataframe\n",
    "pd.DataFrame(bow_transformed.toarray(),columns=bow.get_feature_names()).head()\n",
    "\n",
    "# sparsity of the sparse matrix\n",
    "bow_transformed.shape\n",
    "bow_transformed.nnz #non-zero counts\n",
    "sparsity = 1-(bow_transformed.nnz / (bow_transformed.shape[0] * bow_transformed.shape[1]))\n",
    "\n",
    "# implementing tfidf\n",
    "from sklearn.feature_extraction.text import TfidfTransformer\n",
    "tfidf= TfidfTransformer().fit(bow_transformed)\n",
    "tfidf_transformed= tfidf.transform(bow_transformed)\n",
    "\n",
    "# ready to apply a model\n",
    "from sklearn.naive_bayes import MultinomialNB\n",
    "mnb= MultinomialNB()\n",
    "mnb.fit(tfidf_transformed,y_train)\n",
    "y_hat= mnb.predict(tfidf.transform(bow.transform(X_test)))\n",
    "\n",
    "```"
   ]
  },
  {
   "cell_type": "markdown",
   "metadata": {},
   "source": [
    "## Create a pipeline\n",
    "```python\n",
    "from sklearn.pipeline import Pipeline\n",
    "pipeline= Pipeline([('bow', CountVectorizer(stop_words=stopwords.words('english'))),\n",
    "                    ('tfidf', TfidfTransformer()),\n",
    "                    ('mnb', MultinomialNB()) ])\n",
    "```"
   ]
  },
  {
   "cell_type": "markdown",
   "metadata": {},
   "source": [
    "## Sentiment Analysis\n",
    "**TextBlob Module:** Linguistic researchers have labeled the sentiment of words based on their domain expertise. Sentiment of words can vary based on where it is in a sentence. The TextBlob module allows us to take advantage of these labels.\n",
    "\n",
    "**Sentiment Labels:** Each word in a corpus is labeled in terms of polarity and subjectivity (there are more labels as well, but we're going to ignore them for now). A corpus' sentiment is the average of these.\n",
    "   * **Polarity**: How positive or negative a word is. -1 is very negative. +1 is very positive.\n",
    "   * **Subjectivity**: How subjective, or opinionated a word is. 0 is fact. +1 is very much an opinion.\n",
    "\n",
    "\n",
    "\n",
    "```python\n",
    "from textblob import TextBlob\n",
    "\n",
    "pol = lambda x: TextBlob(x).sentiment.polarity\n",
    "sub = lambda x: TextBlob(x).sentiment.subjectivity\n",
    "\n",
    "df['polarity'] = df['msg'].apply(pol)\n",
    "df['subjectivity'] = df['msg'].apply(sub)\n",
    "```"
   ]
  },
  {
   "cell_type": "code",
   "execution_count": null,
   "metadata": {},
   "outputs": [],
   "source": []
  },
  {
   "cell_type": "code",
   "execution_count": null,
   "metadata": {},
   "outputs": [],
   "source": []
  },
  {
   "cell_type": "code",
   "execution_count": null,
   "metadata": {},
   "outputs": [],
   "source": []
  },
  {
   "cell_type": "code",
   "execution_count": null,
   "metadata": {},
   "outputs": [],
   "source": []
  },
  {
   "cell_type": "code",
   "execution_count": null,
   "metadata": {},
   "outputs": [],
   "source": []
  }
 ],
 "metadata": {
  "kernelspec": {
   "display_name": "Python 3",
   "language": "python",
   "name": "python3"
  },
  "language_info": {
   "codemirror_mode": {
    "name": "ipython",
    "version": 3
   },
   "file_extension": ".py",
   "mimetype": "text/x-python",
   "name": "python",
   "nbconvert_exporter": "python",
   "pygments_lexer": "ipython3",
   "version": "3.7.3"
  }
 },
 "nbformat": 4,
 "nbformat_minor": 2
}
